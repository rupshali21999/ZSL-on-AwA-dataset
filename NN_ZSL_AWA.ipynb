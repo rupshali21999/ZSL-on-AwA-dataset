{
  "cells": [
    {
      "cell_type": "code",
      "execution_count": null,
      "metadata": {
        "colab": {
          "base_uri": "https://localhost:8080/"
        },
        "id": "80nwbIHB8sRA",
        "outputId": "014e6ade-1e8a-48bc-984b-629543b50724"
      },
      "outputs": [
        {
          "output_type": "stream",
          "name": "stdout",
          "text": [
            "Mounted at /content/drive\n"
          ]
        }
      ],
      "source": [
        "from google.colab import drive\n",
        "drive.mount('/content/drive')"
      ]
    },
    {
      "cell_type": "code",
      "execution_count": null,
      "metadata": {
        "id": "Fg5qPkHd9Ck1"
      },
      "outputs": [],
      "source": [
        "import numpy as np\n",
        "import scipy\n",
        "import scipy.io\n",
        "import argparse\n",
        "import tensorflow as tf\n",
        "\n",
        "# parser = argparse.ArgumentParser()\n",
        "# parser.add_argument('--ld', type=float, default=500000) # lambda\n",
        "# parser.add_argument(\"-f\", \"--file\", required=False)\n",
        "# opts = vars(parser.parse_args())"
      ]
    },
    {
      "cell_type": "code",
      "execution_count": null,
      "metadata": {
        "id": "4TpBs0JOPgXO"
      },
      "outputs": [],
      "source": [
        "class Args:\n",
        "  ld = 500000.0\n",
        "\n",
        "opts = Args"
      ]
    },
    {
      "cell_type": "code",
      "execution_count": null,
      "metadata": {
        "id": "nENCUPmG9DJV"
      },
      "outputs": [],
      "source": [
        "def normalizeFeature(x):\n",
        "\t# x = d x N dims (d: feature dimension, N: the number of features)\n",
        "\tx = x + 1e-10 # for avoid RuntimeWarning: invalid value encountered in divide\n",
        "\tfeature_norm = np.sum(x**2, axis=1)**0.5 # l2-norm\n",
        "\tfeat = x / feature_norm[:, np.newaxis]\n",
        "\treturn feat"
      ]
    },
    {
      "cell_type": "code",
      "execution_count": null,
      "metadata": {
        "id": "t2am1O0j9FjO"
      },
      "outputs": [],
      "source": [
        "def SAE(x, s, ld):\n",
        "\t# SAE is Semantic Autoencoder\n",
        "\t# INPUTS:\n",
        "\t# \tx: d x N data matrix\n",
        "\t#\ts: k x N semantic matrix\n",
        "\t#\tld: lambda for regularization parameter\n",
        "\t#\n",
        "\t# OUTPUT:\n",
        "\t#\tw: kxd projection matrix\n",
        "\n",
        "\tA = np.dot(s, s.transpose())\n",
        "\tB = ld * np.dot(x, x.transpose())\n",
        "\tC = (1+ld) * np.dot(s, x.transpose())\n",
        "\tw = scipy.linalg.solve_sylvester(A,B,C)\n",
        "\treturn w"
      ]
    },
    {
      "cell_type": "code",
      "execution_count": null,
      "metadata": {
        "id": "hIVyt_Ha9LDN"
      },
      "outputs": [],
      "source": [
        "def distCosine(x, y):\n",
        "\txx = np.sum(x**2, axis=1)**0.5\n",
        "\tx = x / xx[:, np.newaxis]\n",
        "\tyy = np.sum(y**2, axis=1)**0.5\n",
        "\ty = y / yy[:, np.newaxis]\n",
        "\tdist = 1 - np.dot(x, y.transpose())\n",
        "\treturn dist"
      ]
    },
    {
      "cell_type": "code",
      "execution_count": null,
      "metadata": {
        "id": "kgyopa4V9Ldl"
      },
      "outputs": [],
      "source": [
        "def zsl_acc(semantic_predicted, semantic_gt, opts):\n",
        "\t# zsl_acc calculates zero-shot classification accruacy\n",
        "\t#\n",
        "\t# INPUTS:\n",
        "\t#\tsemantic_prediced: predicted semantic labels\n",
        "\t# \tsemantic_gt: ground truth semantic labels\n",
        "\t# \topts: other parameters\n",
        "\t#\n",
        "\t# OUTPUT:\n",
        "\t# \tzsl_accuracy: zero-shot classification accuracy (per-sample)\n",
        "\n",
        "\tdist = 1 - distCosine(semantic_predicted, semantic_gt)\n",
        "\ty_hit_k = np.zeros((dist.shape[0], opts.HITK))\n",
        "\tfor idx in range(0, dist.shape[0]):\n",
        "\t\tsorted_id = sorted(range(len(dist[idx,:])), key=lambda k: dist[idx,:][k], reverse=True)\n",
        "\t\ty_hit_k[idx,:] = opts.test_classes_id[sorted_id[0:opts.HITK]]\n",
        "\n",
        "\tn = 0\n",
        "\tfor idx in range(0, dist.shape[0]):\n",
        "\t\tif opts.test_labels[idx] in y_hit_k[idx,:]:\n",
        "\t\t\tn = n + 1\n",
        "\tzsl_accuracy = float(n) / dist.shape[0] * 100\n",
        "\treturn zsl_accuracy, y_hit_k"
      ]
    },
    {
      "cell_type": "code",
      "execution_count": null,
      "metadata": {
        "id": "22DTEcymS3Pg"
      },
      "outputs": [],
      "source": [
        "awa = scipy.io.loadmat('/content/drive/MyDrive/Text_Embedding_Academic_project/mat_files/all_files.mat')\n",
        "train_data = awa['X_tr']\n",
        "train_data = normalizeFeature(train_data.transpose()).transpose()\n",
        "test_data = awa['X_te3']\n",
        "test_data = normalizeFeature(test_data.transpose()).transpose()\n",
        "train_class_attributes = awa['S_tr']\n",
        "opts.test_labels = awa['test_labels3']\n",
        "opts.test_classes_id = awa['testclasses_id']\n",
        "test_class_attributes_labels_continuous = awa['S_te_gt']"
      ]
    },
    {
      "cell_type": "code",
      "source": [
        "opts.test_labels.shape"
      ],
      "metadata": {
        "colab": {
          "base_uri": "https://localhost:8080/"
        },
        "id": "HeslpM_Y4jYy",
        "outputId": "2f0298bf-c63a-4271-d4e1-f0d400bdc6c3"
      },
      "execution_count": null,
      "outputs": [
        {
          "output_type": "execute_result",
          "data": {
            "text/plain": [
              "(16353, 1)"
            ]
          },
          "metadata": {},
          "execution_count": 42
        }
      ]
    },
    {
      "cell_type": "code",
      "source": [
        "test_data.shape"
      ],
      "metadata": {
        "colab": {
          "base_uri": "https://localhost:8080/"
        },
        "id": "xD7tgo--43WI",
        "outputId": "8b6ff095-eea0-461b-b1d1-3aeeed6ff39c"
      },
      "execution_count": null,
      "outputs": [
        {
          "output_type": "execute_result",
          "data": {
            "text/plain": [
              "(16353, 11)"
            ]
          },
          "metadata": {},
          "execution_count": 43
        }
      ]
    },
    {
      "cell_type": "code",
      "execution_count": null,
      "metadata": {
        "colab": {
          "base_uri": "https://localhost:8080/"
        },
        "id": "u3w3wgE-TPnE",
        "outputId": "62709eae-0b08-4caa-b773-8db81d79370a"
      },
      "outputs": [
        {
          "output_type": "execute_result",
          "data": {
            "text/plain": [
              "(237658, 11)"
            ]
          },
          "metadata": {},
          "execution_count": 44
        }
      ],
      "source": [
        "train_data.shape"
      ]
    },
    {
      "cell_type": "code",
      "source": [
        "np.unique(opts.test_labels)"
      ],
      "metadata": {
        "colab": {
          "base_uri": "https://localhost:8080/"
        },
        "id": "gt_rXM1CNebt",
        "outputId": "70cdf98f-acc6-4eb6-81bc-7443761c1b41"
      },
      "execution_count": null,
      "outputs": [
        {
          "output_type": "execute_result",
          "data": {
            "text/plain": [
              "array([3], dtype=uint8)"
            ]
          },
          "metadata": {},
          "execution_count": 45
        }
      ]
    },
    {
      "cell_type": "code",
      "source": [
        "train_data"
      ],
      "metadata": {
        "colab": {
          "base_uri": "https://localhost:8080/"
        },
        "id": "u9pd2hiu0LQ2",
        "outputId": "fdb3d3a1-7174-41b8-9161-9eeabb3e9131"
      },
      "execution_count": null,
      "outputs": [
        {
          "output_type": "execute_result",
          "data": {
            "text/plain": [
              "array([[2.79421185e-03, 3.30033003e-03, 1.22095572e-03, ...,\n",
              "        3.59767677e-06, 5.99940237e-18, 4.92663025e-04],\n",
              "       [2.97206576e-03, 1.65016502e-13, 2.44191143e-03, ...,\n",
              "        2.69825757e-05, 5.99940237e-18, 3.44864117e-03],\n",
              "       [1.47964117e-05, 3.30033003e-03, 1.22095572e-03, ...,\n",
              "        3.17794781e-05, 3.93170835e-03, 4.92663025e-04],\n",
              "       ...,\n",
              "       [8.64634884e-04, 3.30033003e-03, 1.22095572e-03, ...,\n",
              "        9.95357239e-05, 5.99940237e-18, 4.92663025e-04],\n",
              "       [3.47504041e-03, 1.65016502e-13, 2.44191143e-03, ...,\n",
              "        3.89748316e-05, 5.99940237e-18, 3.44864117e-03],\n",
              "       [2.34464252e-03, 3.30033003e-03, 1.22095572e-03, ...,\n",
              "        1.97872222e-05, 5.99940237e-18, 4.92663025e-04]])"
            ]
          },
          "metadata": {},
          "execution_count": 12
        }
      ]
    },
    {
      "cell_type": "code",
      "execution_count": null,
      "metadata": {
        "colab": {
          "base_uri": "https://localhost:8080/"
        },
        "id": "JKKAOBPUH4Cm",
        "outputId": "74ac357f-3f4b-486f-aac6-1f1b7e2c2af5"
      },
      "outputs": [
        {
          "output_type": "execute_result",
          "data": {
            "text/plain": [
              "(237658, 50)"
            ]
          },
          "metadata": {},
          "execution_count": 13
        }
      ],
      "source": [
        "train_class_attributes.shape"
      ]
    },
    {
      "cell_type": "code",
      "source": [
        "train_class_attributes"
      ],
      "metadata": {
        "colab": {
          "base_uri": "https://localhost:8080/"
        },
        "id": "Q_GIiWpK0VrF",
        "outputId": "e1b3b99a-a943-4e3e-ca94-fb2064a2ed7c"
      },
      "execution_count": null,
      "outputs": [
        {
          "output_type": "execute_result",
          "data": {
            "text/plain": [
              "array([[-0.02348983,  0.31598322, -0.13860836, ..., -0.76849509,\n",
              "         1.23180037,  0.39720472],\n",
              "       [-0.02348983,  0.31598322, -0.13860836, ..., -0.76849509,\n",
              "         1.23180037,  0.39720472],\n",
              "       [-0.02348983,  0.31598322, -0.13860836, ..., -0.76849509,\n",
              "         1.23180037,  0.39720472],\n",
              "       ...,\n",
              "       [-0.02916017,  0.41163409, -0.17977458, ..., -1.03785024,\n",
              "         1.63478557,  0.54848268],\n",
              "       [-0.02916017,  0.41163409, -0.17977458, ..., -1.03785024,\n",
              "         1.63478557,  0.54848268],\n",
              "       [-0.02916017,  0.41163409, -0.17977458, ..., -1.03785024,\n",
              "         1.63478557,  0.54848268]])"
            ]
          },
          "metadata": {},
          "execution_count": 14
        }
      ]
    },
    {
      "cell_type": "code",
      "execution_count": null,
      "metadata": {
        "id": "Tn6c1V9_TJ2k"
      },
      "outputs": [],
      "source": [
        "denseModel = tf.keras.Sequential([\n",
        "    tf.keras.layers.Dense(512, activation = 'relu', input_shape=(11,)),\n",
        "    tf.keras.layers.Dense(512, activation = 'relu'),\n",
        "    #tf.keras.layers.Dense(256, activation = 'relu'),\n",
        "    #tf.keras.layers.Dense(128, activation = 'relu'),\n",
        "    tf.keras.layers.Dense(50)\n",
        "\t\t])\n",
        "\n",
        "denseModel.compile(loss='mean_squared_error', optimizer='adam', metrics=['accuracy'])\n",
        "\n",
        "denseModel.fit(train_data, train_class_attributes, epochs = 10, batch_size=32)\n",
        "\n",
        "opts.HITK = 1\n",
        "\n",
        "#[F --> S], projecting data from feature space to semantic space: 84.68% for AwA dataset\n",
        "semantic_predicted = denseModel.predict(test_data)\n",
        "[zsl_accuracy, y_hit_k] = zsl_acc(semantic_predicted, test_class_attributes_labels_continuous, opts)\n",
        "print('[1] zsl accuracy for AwA dataset [F >>> S]: {:.2f}%'.format(zsl_accuracy))\n",
        "\n"
      ]
    },
    {
      "cell_type": "code",
      "source": [
        "semantic_predicted"
      ],
      "metadata": {
        "colab": {
          "base_uri": "https://localhost:8080/"
        },
        "id": "oLfvs8EZGhOp",
        "outputId": "338ed98f-c0c5-4e96-8743-224fd6a589c5"
      },
      "execution_count": null,
      "outputs": [
        {
          "output_type": "execute_result",
          "data": {
            "text/plain": [
              "array([[-0.05836044,  0.36350268, -0.21859963, ..., -1.0093279 ,\n",
              "         1.715552  ,  0.44132665],\n",
              "       [-0.05836028,  0.3634993 , -0.2186003 , ..., -1.009321  ,\n",
              "         1.7155405 ,  0.44132102],\n",
              "       [-0.05831223,  0.36346996, -0.21863535, ..., -1.0094366 ,\n",
              "         1.7159401 ,  0.4413401 ],\n",
              "       ...,\n",
              "       [-0.05831227,  0.3634764 , -0.21863388, ..., -1.0094501 ,\n",
              "         1.7159623 ,  0.4413512 ],\n",
              "       [-0.05831226,  0.3634764 , -0.21863388, ..., -1.0094502 ,\n",
              "         1.7159623 ,  0.44135118],\n",
              "       [-0.05831227,  0.3634764 , -0.21863389, ..., -1.0094501 ,\n",
              "         1.7159623 ,  0.44135118]], dtype=float32)"
            ]
          },
          "metadata": {},
          "execution_count": 21
        }
      ]
    },
    {
      "cell_type": "code",
      "execution_count": null,
      "metadata": {
        "colab": {
          "base_uri": "https://localhost:8080/"
        },
        "id": "VICyxcpFUmSr",
        "outputId": "5cd00947-7f58-4c2a-e1fe-521f9caafd45"
      },
      "outputs": [
        {
          "output_type": "stream",
          "name": "stdout",
          "text": [
            "(237658, 11, 1)\n",
            "(237658, 50, 1)\n"
          ]
        }
      ],
      "source": [
        "train_data_reshaped = np.expand_dims(train_data, axis=2)\n",
        "print(train_data_reshaped.shape)\n",
        "\n",
        "Str_data_reshaped = np.expand_dims(train_class_attributes, axis=2)\n",
        "print(Str_data_reshaped.shape)"
      ]
    },
    {
      "cell_type": "code",
      "execution_count": null,
      "metadata": {
        "id": "qb-ogBNyWb5n"
      },
      "outputs": [],
      "source": [
        "nnModel = tf.keras.Sequential([\n",
        "    tf.keras.layers.Conv1D(filters=32, kernel_size=3, activation='relu', input_shape=(11, 1)),\n",
        "    tf.keras.layers.MaxPooling1D(pool_size=2),\n",
        "    #tf.keras.layers.Conv1D(filters = 64, kernel_size=3, activation='relu'),\n",
        "    #tf.keras.layers.MaxPooling1D(pool_size=2),\n",
        "    #tf.keras.layers.Conv1D(filters = 64, kernel_size=3, activation='relu'),\n",
        "    #tf.keras.layers.MaxPooling1D(pool_size=2),\n",
        "    tf.keras.layers.Flatten(),\n",
        "    tf.keras.layers.Dense(64, activation='relu'),\n",
        "    tf.keras.layers.Dense(50)\n",
        "])"
      ]
    },
    {
      "cell_type": "code",
      "execution_count": null,
      "metadata": {
        "id": "zevSnLgwWvWI"
      },
      "outputs": [],
      "source": [
        "nnModel.compile(optimizer='adam', loss='mean_squared_error')"
      ]
    },
    {
      "cell_type": "code",
      "execution_count": null,
      "metadata": {
        "colab": {
          "base_uri": "https://localhost:8080/"
        },
        "id": "yJw-MW4FW8wL",
        "outputId": "c558430a-314b-48a1-b168-ff335a38adb8"
      },
      "outputs": [
        {
          "output_type": "stream",
          "name": "stdout",
          "text": [
            "Epoch 1/10\n",
            "7427/7427 [==============================] - 32s 3ms/step - loss: 0.0111\n",
            "Epoch 2/10\n",
            "7427/7427 [==============================] - 40s 5ms/step - loss: 0.0079\n",
            "Epoch 3/10\n",
            "7427/7427 [==============================] - 24s 3ms/step - loss: 0.0078\n",
            "Epoch 4/10\n",
            "7427/7427 [==============================] - 25s 3ms/step - loss: 0.0078\n",
            "Epoch 5/10\n",
            "7427/7427 [==============================] - 25s 3ms/step - loss: 0.0078\n",
            "Epoch 6/10\n",
            "7427/7427 [==============================] - 26s 4ms/step - loss: 0.0078\n",
            "Epoch 7/10\n",
            "7427/7427 [==============================] - 25s 3ms/step - loss: 0.0077\n",
            "Epoch 8/10\n",
            "7427/7427 [==============================] - 24s 3ms/step - loss: 0.0077\n",
            "Epoch 9/10\n",
            "7427/7427 [==============================] - 24s 3ms/step - loss: 0.0077\n",
            "Epoch 10/10\n",
            "7427/7427 [==============================] - 25s 3ms/step - loss: 0.0077\n"
          ]
        },
        {
          "output_type": "execute_result",
          "data": {
            "text/plain": [
              "<keras.callbacks.History at 0x7fb7444c7df0>"
            ]
          },
          "metadata": {},
          "execution_count": 25
        }
      ],
      "source": [
        "nnModel.fit(train_data_reshaped, Str_data_reshaped, epochs=10, batch_size=32)"
      ]
    },
    {
      "cell_type": "code",
      "execution_count": null,
      "metadata": {
        "colab": {
          "base_uri": "https://localhost:8080/"
        },
        "id": "3Xe1DyAXW_xY",
        "outputId": "e0e24d5c-6cab-46f2-e18c-80eb93ee51d5"
      },
      "outputs": [
        {
          "output_type": "stream",
          "name": "stdout",
          "text": [
            "29/29 [==============================] - 0s 2ms/step\n",
            "[1] zsl accuracy for AwA dataset [F >>> S]: 98.55%\n"
          ]
        }
      ],
      "source": [
        "opts.HITK = 1\n",
        "#[F --> S], projecting data from feature space to semantic space: 84.68% for AwA dataset\n",
        "semantic_predicted = nnModel.predict(test_data)\n",
        "[zsl_accuracy, y_hit_k] = zsl_acc(semantic_predicted, test_class_attributes_labels_continuous, opts)\n",
        "print('[1] zsl accuracy for AwA dataset [F >>> S]: {:.2f}%'.format(zsl_accuracy))"
      ]
    },
    {
      "cell_type": "code",
      "execution_count": null,
      "metadata": {
        "id": "1wbae33ddjaZ"
      },
      "outputs": [],
      "source": [
        "train_ratio = 0.8\n",
        "train_samples = int(24295 * train_ratio)\n",
        "\n",
        "train_input = train_data[:train_samples]\n",
        "train_output = train_class_attributes[:train_samples]\n",
        "val_input = train_data[train_samples:]\n",
        "val_output = train_class_attributes[train_samples:]"
      ]
    },
    {
      "cell_type": "code",
      "execution_count": null,
      "metadata": {
        "id": "dsz-0IjQ3Qfo"
      },
      "outputs": [],
      "source": [
        "model = tf.keras.Sequential([\n",
        "    tf.keras.layers.Dense(512, activation = 'relu', kernel_regularizer=tf.keras.regularizers.l2(0.01), input_shape=(11,)),\n",
        "    #tf.keras.layers.Dense(256, activation = 'relu', kernel_regularizer=tf.keras.regularizers.l2(0.01)),\n",
        "    #tf.keras.layers.Dense(256, activation = 'relu'),\n",
        "    #tf.keras.layers.Dense(128, activation = 'relu'),\n",
        "    tf.keras.layers.Dense(50)\n",
        "\t\t])"
      ]
    },
    {
      "cell_type": "code",
      "execution_count": null,
      "metadata": {
        "id": "UeVNfk1i3cSR"
      },
      "outputs": [],
      "source": [
        "model.compile(loss='mean_squared_error', optimizer='adam', metrics=['accuracy'])"
      ]
    },
    {
      "cell_type": "code",
      "execution_count": null,
      "metadata": {
        "colab": {
          "base_uri": "https://localhost:8080/"
        },
        "id": "vhbKX5ST3i0Q",
        "outputId": "a382481d-748d-45e1-a39b-0bb855573b5b"
      },
      "outputs": [
        {
          "output_type": "stream",
          "name": "stdout",
          "text": [
            "Epoch 1/10\n",
            "608/608 [==============================] - 24s 37ms/step - loss: 0.0403 - accuracy: 0.9895 - val_loss: 0.0128 - val_accuracy: 1.0000\n",
            "Epoch 2/10\n",
            "608/608 [==============================] - 13s 22ms/step - loss: 5.4103e-09 - accuracy: 1.0000 - val_loss: 0.0128 - val_accuracy: 1.0000\n",
            "Epoch 3/10\n",
            "608/608 [==============================] - 23s 37ms/step - loss: 1.1945e-08 - accuracy: 1.0000 - val_loss: 0.0128 - val_accuracy: 1.0000\n",
            "Epoch 4/10\n",
            "608/608 [==============================] - 13s 22ms/step - loss: 1.0263e-08 - accuracy: 1.0000 - val_loss: 0.0128 - val_accuracy: 1.0000\n",
            "Epoch 5/10\n",
            "608/608 [==============================] - 13s 22ms/step - loss: 1.3879e-08 - accuracy: 1.0000 - val_loss: 0.0128 - val_accuracy: 1.0000\n",
            "Epoch 6/10\n",
            "608/608 [==============================] - 13s 22ms/step - loss: 1.9627e-08 - accuracy: 1.0000 - val_loss: 0.0128 - val_accuracy: 1.0000\n",
            "Epoch 7/10\n",
            "608/608 [==============================] - 13s 22ms/step - loss: 1.5407e-08 - accuracy: 1.0000 - val_loss: 0.0128 - val_accuracy: 1.0000\n",
            "Epoch 8/10\n",
            "608/608 [==============================] - 14s 22ms/step - loss: 1.8541e-08 - accuracy: 1.0000 - val_loss: 0.0128 - val_accuracy: 1.0000\n",
            "Epoch 9/10\n",
            "608/608 [==============================] - 22s 37ms/step - loss: 2.4856e-08 - accuracy: 1.0000 - val_loss: 0.0128 - val_accuracy: 1.0000\n",
            "Epoch 10/10\n",
            "608/608 [==============================] - 22s 37ms/step - loss: 3.7730e-08 - accuracy: 1.0000 - val_loss: 0.0128 - val_accuracy: 1.0000\n"
          ]
        },
        {
          "output_type": "execute_result",
          "data": {
            "text/plain": [
              "<keras.callbacks.History at 0x7fb7442585e0>"
            ]
          },
          "metadata": {},
          "execution_count": 34
        }
      ],
      "source": [
        "model.fit(train_input, train_output, epochs=10, batch_size=32, validation_data=(val_input, val_output))"
      ]
    },
    {
      "cell_type": "code",
      "execution_count": null,
      "metadata": {
        "colab": {
          "base_uri": "https://localhost:8080/"
        },
        "id": "RONyKKtm3u9S",
        "outputId": "a7d4faa3-2499-4df1-d019-d2be4e982d1b"
      },
      "outputs": [
        {
          "output_type": "stream",
          "name": "stdout",
          "text": [
            "29/29 [==============================] - 0s 1ms/step\n",
            "[1] zsl accuracy for AwA dataset [F >>> S]: 100.00%\n"
          ]
        }
      ],
      "source": [
        "opts.HITK = 1\n",
        "#[F --> S], projecting data from feature space to semantic space: 84.68% for AwA dataset\n",
        "semantic_predicted = model.predict(test_data)\n",
        "[zsl_accuracy, y_hit_k] = zsl_acc(semantic_predicted, test_class_attributes_labels_continuous, opts)\n",
        "print('[1] zsl accuracy for AwA dataset [F >>> S]: {:.2f}%'.format(zsl_accuracy))"
      ]
    },
    {
      "cell_type": "code",
      "execution_count": null,
      "metadata": {
        "id": "iWvbhkQS3-g2"
      },
      "outputs": [],
      "source": [
        "# Encoder\n",
        "encoder_inputs = tf.keras.Input((11,))\n",
        "encoder = tf.keras.layers.Dense(256, activation='relu')(encoder_inputs)\n",
        "#encoder = tf.keras.layers.Dense(128, activation='relu')(encoder)\n",
        "encoded_outputs = tf.keras.layers.Dense(50)(encoder)\n",
        "\n",
        "# Decoder\n",
        "#decoder = tf.keras.layers.Dense(128, activation='relu')(encoded_outputs)\n",
        "decoder = tf.keras.layers.Dense(256, activation='relu')(encoded_outputs)\n",
        "decoder_outputs = tf.keras.layers.Dense(50)(decoder)"
      ]
    },
    {
      "cell_type": "code",
      "source": [
        "# Autoencoder model\n",
        "autoencoder = tf.keras.Model(encoder_inputs, decoder_outputs)"
      ],
      "metadata": {
        "id": "fwnjsJp_gra5"
      },
      "execution_count": null,
      "outputs": []
    },
    {
      "cell_type": "code",
      "source": [
        "# Compile the autoencoder model with suitable optimizer and loss function\n",
        "autoencoder.compile(optimizer='adam', loss='mean_squared_error',  metrics=['accuracy'])"
      ],
      "metadata": {
        "id": "RGsHcC-_hJWQ"
      },
      "execution_count": null,
      "outputs": []
    },
    {
      "cell_type": "code",
      "source": [
        "# Train the autoencoder on the input-output data\n",
        "autoencoder.fit(train_input, train_output, epochs=10, batch_size=32, validation_data=(val_input, val_output))"
      ],
      "metadata": {
        "colab": {
          "base_uri": "https://localhost:8080/"
        },
        "id": "e254Zo90hRKQ",
        "outputId": "b9ce6bc0-1d78-4c5c-d9e2-f3a173a55a29"
      },
      "execution_count": null,
      "outputs": [
        {
          "output_type": "stream",
          "name": "stdout",
          "text": [
            "Epoch 1/10\n",
            "608/608 [==============================] - 16s 23ms/step - loss: 0.0181 - accuracy: 0.9983 - val_loss: 0.0127 - val_accuracy: 1.0000\n",
            "Epoch 2/10\n",
            "608/608 [==============================] - 22s 37ms/step - loss: 1.3440e-07 - accuracy: 1.0000 - val_loss: 0.0128 - val_accuracy: 1.0000\n",
            "Epoch 3/10\n",
            "608/608 [==============================] - 23s 37ms/step - loss: 4.9294e-08 - accuracy: 1.0000 - val_loss: 0.0128 - val_accuracy: 1.0000\n",
            "Epoch 4/10\n",
            "608/608 [==============================] - 23s 37ms/step - loss: 5.6635e-08 - accuracy: 1.0000 - val_loss: 0.0128 - val_accuracy: 1.0000\n",
            "Epoch 5/10\n",
            "608/608 [==============================] - 13s 22ms/step - loss: 6.4883e-08 - accuracy: 1.0000 - val_loss: 0.0128 - val_accuracy: 1.0000\n",
            "Epoch 6/10\n",
            "608/608 [==============================] - 22s 37ms/step - loss: 7.2282e-08 - accuracy: 1.0000 - val_loss: 0.0127 - val_accuracy: 1.0000\n",
            "Epoch 7/10\n",
            "608/608 [==============================] - 22s 37ms/step - loss: 9.3909e-08 - accuracy: 1.0000 - val_loss: 0.0128 - val_accuracy: 1.0000\n",
            "Epoch 8/10\n",
            "608/608 [==============================] - 23s 37ms/step - loss: 1.5163e-07 - accuracy: 1.0000 - val_loss: 0.0128 - val_accuracy: 1.0000\n",
            "Epoch 9/10\n",
            "608/608 [==============================] - 22s 37ms/step - loss: 2.6346e-06 - accuracy: 1.0000 - val_loss: 0.0129 - val_accuracy: 1.0000\n",
            "Epoch 10/10\n",
            "608/608 [==============================] - 13s 22ms/step - loss: 4.1709e-06 - accuracy: 1.0000 - val_loss: 0.0126 - val_accuracy: 1.0000\n"
          ]
        },
        {
          "output_type": "execute_result",
          "data": {
            "text/plain": [
              "<keras.callbacks.History at 0x7fb7382f9540>"
            ]
          },
          "metadata": {},
          "execution_count": 39
        }
      ]
    },
    {
      "cell_type": "code",
      "source": [
        "opts.HITK = 1\n",
        "#[F --> S], projecting data from feature space to semantic space: 84.68% for AwA dataset\n",
        "semantic_predicted = autoencoder.predict(test_data)\n",
        "[zsl_accuracy, y_hit_k] = zsl_acc(semantic_predicted, test_class_attributes_labels_continuous, opts)\n",
        "print('[1] zsl accuracy for AwA dataset [F >>> S]: {:.2f}%'.format(zsl_accuracy))"
      ],
      "metadata": {
        "colab": {
          "base_uri": "https://localhost:8080/"
        },
        "id": "VtS0ozcqhaXQ",
        "outputId": "37156de0-06ae-4770-da8e-ec844a9b9c2e"
      },
      "execution_count": null,
      "outputs": [
        {
          "output_type": "stream",
          "name": "stdout",
          "text": [
            "29/29 [==============================] - 0s 1ms/step\n",
            "[1] zsl accuracy for AwA dataset [F >>> S]: 99.22%\n"
          ]
        }
      ]
    },
    {
      "cell_type": "code",
      "source": [],
      "metadata": {
        "id": "FhZorYH4SPco"
      },
      "execution_count": null,
      "outputs": []
    }
  ],
  "metadata": {
    "accelerator": "GPU",
    "colab": {
      "provenance": []
    },
    "gpuClass": "standard",
    "kernelspec": {
      "display_name": "Python 3",
      "name": "python3"
    },
    "language_info": {
      "name": "python"
    }
  },
  "nbformat": 4,
  "nbformat_minor": 0
}